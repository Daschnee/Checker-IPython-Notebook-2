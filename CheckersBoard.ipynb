
import CheckerPiece as cp

class CheckersBoard:
    
    #initalization of 8x8 array that represents the board, and 2 arrays of all
    #the white and black pieces
    def __init__(self):
        #8x8 array representing the board
        self.board = [[None, None, None, None, None, None, None, None],
                      [None, None, None, None, None, None, None, None],
                      [None, None, None, None, None, None, None, None],
                      [None, None, None, None, None, None, None, None],
                      [None, None, None, None, None, None, None, None],
                      [None, None, None, None, None, None, None, None],
                      [None, None, None, None, None, None, None, None],
                      [None, None, None, None, None, None, None, None]]
        
        #array of white pieces
        self.whitepieces = [None, None, None, None, None, None, 
                            None, None, None, None, None, None]
        
        #array of black pieces
        self.blackpieces = [None, None, None, None, None, None, 
                            None, None, None, None, None, None]
        
        #set starting position of 12 black and 12 white pieces
        self.setUpBoard()
        
    #prints the board with color of pieces if square is occupied and O if it 
    #isn't
    def __str__(self):
        """
        Returns board as a large group of chars
        -------
        """
        board = ''
        for row in self.board:
            for piece in row:
                if (piece == None):
                    board = board + 'O  '
                else:
                    board = board + piece.color + '  '
            board = board + '\n'
        return board
    
    #prints the detail of the pieces in both arrays
    def printPieces(self):
        """
        Prints details of all existing pieces. No return.
        -------
        """
        for piece in self.blackpieces:
            if (piece != None):
                piece.printPieceDetails()
        print()
        for piece in self.whitepieces:
            if (piece != None):
                piece.printPieceDetails()
        print()
        
    #prints the detail of the pieces in the white piece array
    def printWhitePieces(self):
        """
        Prints details of existing white pieces. No return.
        -------
        """
        for piece in self.whitepieces:
            if (piece != None):
                piece.printPieceDetails()
        print()
        
    #prints the details of the pieces in the black pieces array
    def printBlackPieces(self):
        """
        Prints details of existing black pieces. No return.
        -------
        """
        for piece in self.blackpieces:
            if (piece != None):
                piece.printPieceDetails()
        print()
    
    #Sets up chess board and adds pieces to appropriate piece array
    def setUpBoard(self):
        """
        Sets up board array with proper orientation of checker pieces on the
        board. Adds pieces white piece and black piece array according to color
        of piece.
        -------

        """
        counter = 0
        i = 0
        while (i < 8):
            if (i < 3):
                piece = 'b'
            elif (i < 5):
                i = 5
                piece = 'w'
                counter = 0
            else:
                piece = 'w'
            if (i % 2 == 0):
                for j in range(4):
                    new = cp.CheckerPiece(i, j*2+1, piece, 'r')
                    self.board[i][j*2+1] = new
                    if (new.color == 'w'):
                        self.whitepieces[counter] = new
                    else:
                        self.blackpieces[counter] = new
                    counter = counter + 1
            else:
                for j in range(4):
                    new = cp.CheckerPiece(i, j*2, piece, 'r')
                    self.board[i][j*2] = new
                    if (new.color == 'w'):
                        self.whitepieces[counter] = new
                    else:
                        self.blackpieces[counter] = new
                    counter = counter + 1
            i = i + 1
        
    def movePiece(self, indexOf, color, di, dj):
        if ((color == 'r') | (color == 'w')):
            target = self.whitepieces[indexOf]
        else:
            target = self.blackpieces[indexOf]
        self.board[di][dj] = target
        self.board[target.i][target.j] = None
        target.i = di
        target.j = dj
        
    def removePiece(self, indexOf, color):
        if ((color == 'r') | (color == 'w')):
            target = self.whitepieces[indexOf]
            self.whitepieces[indexOf] = None
        else:
            target = self.blackpieces[indexOf]
            self.blackpieces[indexOf] = None
        self.board[target.i][target.j] = None
    
    def kingPiece(self, indexOf, color):
        if ((color == 'r') | (color == 'w')):
            self.whitepieces[indexOf].kingMe()
        else:
            self.blackpieces[indexOf].kingMe()