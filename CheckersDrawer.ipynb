import graphics
import DrawnCheckersPiece

class CheckersDrawer:
    
    #initalizes window and draws board and pieces
    def __init__(self):
        """
        Creates window with chess board and pieces drawn
        -------
        window - window of chess board

        """
        self.window = graphics.GraphWin("Checkers", 1000, 1000)
        
        self.drawnredpieces = [None, None, None, None, None, None, 
                               None, None, None, None, None, None]
        
        self.drawnblackpieces = [None, None, None, None, None, None, 
                                 None, None, None, None, None, None]
        
        self.drawBoard()
        
        self.drawPieces()
    
    #draws checkered background on window 
    def drawBoard(self):
        """
        Draws checkered board on window. (called when new instance of CheckerDrawer
        is made)
        -------

        """
        isRed = True
        for i in range (8):
            for j in range(8):
                topLeft = graphics.Point(j*self.window.width/8, i*self.window.width/8)
                bottomRight = graphics.Point(topLeft.x + self.window.width/8, 
                                             topLeft.y + self.window.width/8)
                square = graphics.Rectangle(topLeft, bottomRight)
                square.setOutline('black')
                if ((isRed)):
                    square.setFill('red')
                    if (j != 7):
                        isRed = False
                else:
                    square.setFill('black')
                    if (j != 7):
                        isRed = True
                square.draw(self.window)
    
    #draws circles representing pieces on the window
    def drawPieces(self):
        """
        Draws checker pieces on board in window. (called when new instance of CheckerDrawer
        is made)
        -------
        None.

        """
        counter = 0
        for i in range(8):
            for j in range(0, 8, 2):
                if ((i <= 2) | (i >= 5)):
                    if (i % 2 == 1):
                        centerj = j
                    else:
                        centerj = j+1
                    if (i <= 2):
                        self.drawnblackpieces[counter%12] = DrawnCheckersPiece.DrawnCheckerPiece(i, centerj, 'r', 'black', self.window)
                    else:
                        self.drawnredpieces[counter%12] = DrawnCheckersPiece.DrawnCheckerPiece(i, centerj, 'r', 'red', self.window)
                    counter = counter + 1
                    
    def printDrawnPieces(self):
        for piece in self.drawnredpieces:
            print(piece)
        for piece in self.drawnblackpieces:
            print(piece)
            
    def moveDrawnPiece(self, indexOf, color, di, dj):
         if ((color == 'r') | (color == 'w')):
             self.drawnredpieces[indexOf].move(di, dj)
         else:
             self.drawnblackpieces[indexOf].move(di, dj)
    
    def removeDrawnPiece(self, indexOf, color):
        if ((color == 'r') | (color == 'w')):
            self.drawnredpieces[indexOf].remove()
        else:
            self.drawnblackpieces[indexOf].remove()
    
    def kingPiece(self, indexOf, color):
        if ((color == 'r') | (color == 'w')):
            self.drawnredpieces[indexOf].kingMe()
        else:
            self.drawnblackpieces[indexOf].kingMe()