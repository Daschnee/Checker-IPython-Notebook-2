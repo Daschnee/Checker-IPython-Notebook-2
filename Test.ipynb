import CheckersBoard
import CheckersDrawer
import CheckersIntegrater

hiddenboard = CheckersBoard.CheckersBoard()
visibleboard = CheckersDrawer.CheckersDrawer()

combinedboard = CheckersIntegrater.CheckerIntegrater(hiddenboard, visibleboard)

combinedboard.movePiece(11, 'b', 6, 3)
combinedboard.movePiece(0, 'r', 4, 1)

combinedboard.removePiece(10, 'b')
combinedboard.removePiece(1, 'r')

combinedboard.kingPiece(9, 'b')
combinedboard.kingPiece(2, 'r')

combinedboard.kingPiece(8, 'b')
combinedboard.kingPiece(3, 'r')

combinedboard.movePiece(9, 'b', 4, 3)
combinedboard.movePiece(2, 'r', 5, 4)


combinedboard.removePiece(8, 'b')
combinedboard.removePiece(3, 'r')

    