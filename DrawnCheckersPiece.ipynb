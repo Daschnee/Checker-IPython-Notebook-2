import graphics
import math

class DrawnCheckerPiece:
    
    def __init__(self, centeri, centerj, typeOf, color, window):
        self.centeri = centeri
        self.centerj = centerj
        self.typeOf = typeOf
        self.color = color
        self.board = window
        self.drawPiece()
    
    def drawPiece(self):
        center = graphics.Point(self.centerj*self.board.width/8 + 0.5*self.board.width/8,
                                self.centeri*self.board.height/8 + 0.5*self.board.height/8)
        radius = radius =  0.95*math.sqrt((self.board.width/8 * self.board.height/8)/(2*math.pi))
        self.piece = graphics.Circle(center, radius)
        self.piece.setOutline('white')
        self.piece.setFill(self.color)
        self.piece.draw(self.board)
    
    def __str__(self):
        return (str(self.color) + " " + str(self.typeOf) + " at (" + str(self.centeri) +
                ", " + str(self.centerj))
    
    def move(self, di, dj):
        self.piece.move((dj*self.board.height/8) - (self.centeri*self.board.height/8), 
                        (di*self.board.width/8) - (self.centerj*self.board.width/8)) 
        if (self.typeOf == 'k'):
            self.crown.move((dj*self.board.height/8) - (self.centeri*self.board.height/8), 
                            (di*self.board.width/8) - (self.centerj*self.board.width/8))
        
    def remove(self):
        self.piece.undraw()
        if (self.typeOf == 'k'):
            self.crown.undraw()
        
    def kingMe(self):
        self.typeOf = 'k'
        center = graphics.Point(self.centerj*self.board.width/8 + 0.5*self.board.width/8,
                                self.centeri*self.board.height/8 + 0.5*self.board.height/8)
        radius = 0.65*math.sqrt((self.board.width/8 * self.board.height/8)/(2*math.pi))
        self.crown = graphics.Circle(center, radius)
        self.crown.setOutline(self.color)
        self.crown.setFill('yellow')
        self.crown.draw(self.board)