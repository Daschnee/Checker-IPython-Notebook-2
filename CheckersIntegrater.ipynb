class CheckerIntegrater:
    
    def __init__(self, board, window):
        self.board = board
        self.graphicswindow = window
    
    def movePiece(self, indexOfDrawnPiece, color, di, dj):
        self.board.movePiece(indexOfDrawnPiece, color, di, dj)
        self.graphicswindow.moveDrawnPiece(indexOfDrawnPiece, color, di, dj)
    
    def removePiece(self, indexOfDrawnPiece, color):
        self.board.removePiece(indexOfDrawnPiece, color)
        self.graphicswindow.removeDrawnPiece(indexOfDrawnPiece, color)
    
    def kingPiece(self, indexOfDrawnPiece, color):
        self.board.kingPiece(indexOfDrawnPiece, color)
        self.graphicswindow.kingPiece(indexOfDrawnPiece, color)