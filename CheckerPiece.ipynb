import numpy as np

class CheckerPiece:
    
    #intalization of checker piece. Adds attributes of i and j position on 
    #board, color, and type of piece
    def __init__(self, i, j, color, type):
        #row position, given as an integer from 0 - 8
        self.i = i
        #column position, given as an integer from 0 - 8
        self.j = j
        #color, 'w' is white, 'b' is black
        self.color = color
        #type, 'r' for regular piece, 'k' for king
        self.type = type
    
    #print of piece is just the piece's color
    def __str__(self):
        return self.color
    
    #prints piece's attributes
    def printPieceDetails(self):
        
        print(self.color + " " + self.type + " at (" + str(self.i) + 
              ", " + str(self.j) + ")")
    
    #prints array of possible moves for piece based on piece type in the form
    #[i1,j1, i2, j2, ...]
    def possibleMoves(self):
        """
        Returns an array of all possible adjacent squares piece can move to 
        (does not take into account occupance of possible spaces).

        -------
        RETURNS : ARRAY
            Array of possible moves in the form [i1, j1, i2, j2, ...].

        """
        moves = np.array([])
        #white pieces move up the board, so check if they can diagonally up the
        #board
        if (self.color == 'w'):
            #holds true if it is a regular piece
            if (self.type == 'r'):
                if (self.i-1 < 0):
                    return moves
                if (self.j+1 < 8):
                    moves = np.append(moves, np.array([self.i-1, self.j+1]))
                if (self.j-1 >= 0):
                    moves = np.append(moves, np.array([self.i-1, self.j-1]))
            #if it is a king, check backwards moves
            else:
                if (self.i+1 < 8):
                    if (self.j+1 < 8):
                        moves = np.append(moves, np.array([self.i+1, self.j+1]))
                    if (self.j-1 >= 0):
                        moves = np.append(moves, np.array([self.i+1, self.j-1]))
                if (self.i-1 > 0):
                    if (self.j+1 < 8):
                        moves = np.append(moves, np.array([self.i-1, self.j+1]))
                    if (self.j-1 >= 0):
                        moves = np.append(moves, np.array([self.i-1, self.j-1]))
        #black pieces move down the boards, so check for movement in that
        #direction
        else:
            #if it is a regular piece, only check downward movements
            if (self.type == 'r'):
                if (self.i+1 > 8):
                    return moves
                if (self.j+1 < 8):
                    moves = np.append(moves, np.array([self.i+1, self.j+1]))
                if (self.j-1 >= 0):
                    moves = np.append(moves, np.array([self.i+1, self.j-1]))
            #if it is a king, check for backwards moves
            else:
                if (self.i+1 < 8):
                    if (self.j+1 < 8):
                        moves = np.append(moves, np.array([self.i+1, self.j+1]))
                    if (self.j-1 >= 0):
                        moves = np.append(moves, np.array([self.i+1, self.j-1]))
                if (self.i-1 > 0):
                    if (self.j+1 < 8):
                        moves = np.append(moves, np.array([self.i-1, self.j+1]))
                    if (self.j-1 >= 0):
                        moves = np.append(moves, np.array([self.i-1, self.j-1]))
        return moves
    
    def move(self, di, dj):
        self.i = di
        self.j = dj
        
    #Changes type of piece from regular to king
    def kingMe(self):
        self.type = 'k'